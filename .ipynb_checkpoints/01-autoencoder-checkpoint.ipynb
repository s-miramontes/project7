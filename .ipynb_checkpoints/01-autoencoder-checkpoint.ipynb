{
 "cells": [
  {
   "cell_type": "markdown",
   "id": "80bb9393",
   "metadata": {},
   "source": [
    "## Autoencoder for MNIST Dataset"
   ]
  },
  {
   "cell_type": "code",
   "execution_count": 5,
   "id": "0c28564e",
   "metadata": {},
   "outputs": [],
   "source": [
    "# importing dependencies\n",
    "import numpy as np\n",
    "from nn import NeuralNetwork\n",
    "from sklearn.datasets import load_digits\n",
    "from sklearn.model_selection import train_test_split"
   ]
  },
  {
   "cell_type": "markdown",
   "id": "ddec7755",
   "metadata": {},
   "source": [
    "First we generate our model with the required inputs: 64x16x64."
   ]
  },
  {
   "cell_type": "code",
   "execution_count": 6,
   "id": "c5e8dc15",
   "metadata": {},
   "outputs": [],
   "source": [
    "# from architecture requirements\n",
    "arch = [{'input_dim': 64, 'output_dim': 16, 'activation': 'relu'},\n",
    "       {'input_dim': 16, 'output_dim': 64, 'activation': 'relu'}]\n",
    "\n",
    "# instantiate model with arch and written params\n",
    "nn_ae = NeuralNetwork(arch, lr = 0.01, seed = 40, batch_size = 15,\n",
    "                  epochs = 15, loss_function = 'mse')"
   ]
  },
  {
   "cell_type": "markdown",
   "id": "9827ffa7",
   "metadata": {},
   "source": [
    "Now load dataset we've imported."
   ]
  },
  {
   "cell_type": "code",
   "execution_count": 7,
   "id": "b90dc982",
   "metadata": {},
   "outputs": [],
   "source": [
    "mnist = load_digits()\n",
    "data = mnist['data']\n",
    "tars = mnist['target']\n",
    "\n",
    "# split test and train datasets 80/20 split\n",
    "X_train, X_val, y_train, y_val = train_test_split(data, tars,\n",
    "                                                 test_size=0.2,\n",
    "                                                 random_state=0)"
   ]
  },
  {
   "cell_type": "markdown",
   "id": "31c572ad",
   "metadata": {},
   "source": [
    "Now we train network."
   ]
  },
  {
   "cell_type": "code",
   "execution_count": 8,
   "id": "fc48fd4f",
   "metadata": {
    "scrolled": false
   },
   "outputs": [
    {
     "ename": "ValueError",
     "evalue": "operands could not be broadcast together with shapes (15,) (15,64) ",
     "output_type": "error",
     "traceback": [
      "\u001b[0;31m---------------------------------------------------------------------------\u001b[0m",
      "\u001b[0;31mValueError\u001b[0m                                Traceback (most recent call last)",
      "\u001b[0;32m<ipython-input-8-d47c6ecdec02>\u001b[0m in \u001b[0;36m<module>\u001b[0;34m\u001b[0m\n\u001b[0;32m----> 1\u001b[0;31m \u001b[0mtrainLoss\u001b[0m\u001b[0;34m,\u001b[0m \u001b[0mvalLoss\u001b[0m \u001b[0;34m=\u001b[0m \u001b[0mnn_ae\u001b[0m\u001b[0;34m.\u001b[0m\u001b[0mfit\u001b[0m\u001b[0;34m(\u001b[0m\u001b[0mX_train\u001b[0m\u001b[0;34m,\u001b[0m \u001b[0my_train\u001b[0m\u001b[0;34m,\u001b[0m \u001b[0mX_val\u001b[0m\u001b[0;34m,\u001b[0m \u001b[0mX_val\u001b[0m\u001b[0;34m)\u001b[0m\u001b[0;34m\u001b[0m\u001b[0;34m\u001b[0m\u001b[0m\n\u001b[0m\u001b[1;32m      2\u001b[0m \u001b[0;34m\u001b[0m\u001b[0m\n\u001b[1;32m      3\u001b[0m \u001b[0;34m\u001b[0m\u001b[0m\n\u001b[1;32m      4\u001b[0m \u001b[0;31m#per_epoch_loss_train, per_epoch_loss_val = my_nn.fit(X_train, y_train, X_val, X_val)\u001b[0m\u001b[0;34m\u001b[0m\u001b[0;34m\u001b[0m\u001b[0;34m\u001b[0m\u001b[0m\n",
      "\u001b[0;32m~/Documents/Winter 2022/BMI_223/Assignments/project7/nn/nn.py\u001b[0m in \u001b[0;36mfit\u001b[0;34m(self, X_train, y_train, X_val, y_val)\u001b[0m\n\u001b[1;32m    358\u001b[0m                 \u001b[0;31m# done with forward, calculate loss\u001b[0m\u001b[0;34m\u001b[0m\u001b[0;34m\u001b[0m\u001b[0;34m\u001b[0m\u001b[0m\n\u001b[1;32m    359\u001b[0m                 \u001b[0;32mif\u001b[0m \u001b[0mself\u001b[0m\u001b[0;34m.\u001b[0m\u001b[0m_loss_func\u001b[0m \u001b[0;34m==\u001b[0m \u001b[0;34m'mse'\u001b[0m\u001b[0;34m:\u001b[0m\u001b[0;34m\u001b[0m\u001b[0;34m\u001b[0m\u001b[0m\n\u001b[0;32m--> 360\u001b[0;31m                     \u001b[0mtrain_loss\u001b[0m \u001b[0;34m=\u001b[0m \u001b[0mself\u001b[0m\u001b[0;34m.\u001b[0m\u001b[0m_mean_squared_error\u001b[0m\u001b[0;34m(\u001b[0m\u001b[0mybatch\u001b[0m\u001b[0;34m,\u001b[0m \u001b[0mout\u001b[0m\u001b[0;34m)\u001b[0m\u001b[0;34m\u001b[0m\u001b[0;34m\u001b[0m\u001b[0m\n\u001b[0m\u001b[1;32m    361\u001b[0m                 \u001b[0;32melif\u001b[0m \u001b[0mself\u001b[0m\u001b[0;34m.\u001b[0m\u001b[0m_loss_func\u001b[0m \u001b[0;34m==\u001b[0m \u001b[0;34m'bce'\u001b[0m\u001b[0;34m:\u001b[0m\u001b[0;34m\u001b[0m\u001b[0;34m\u001b[0m\u001b[0m\n\u001b[1;32m    362\u001b[0m                     \u001b[0mtrain_loss\u001b[0m \u001b[0;34m=\u001b[0m \u001b[0mself\u001b[0m\u001b[0;34m.\u001b[0m\u001b[0m_binary_cross_entropy\u001b[0m\u001b[0;34m(\u001b[0m\u001b[0mybatch\u001b[0m\u001b[0;34m,\u001b[0m \u001b[0mout\u001b[0m\u001b[0;34m)\u001b[0m\u001b[0;34m\u001b[0m\u001b[0;34m\u001b[0m\u001b[0m\n",
      "\u001b[0;32m~/Documents/Winter 2022/BMI_223/Assignments/project7/nn/nn.py\u001b[0m in \u001b[0;36m_mean_squared_error\u001b[0;34m(self, y, y_hat)\u001b[0m\n\u001b[1;32m    547\u001b[0m         \u001b[0;31m# mse: (observed - predicted)**squared\u001b[0m\u001b[0;34m\u001b[0m\u001b[0;34m\u001b[0m\u001b[0;34m\u001b[0m\u001b[0m\n\u001b[1;32m    548\u001b[0m         \u001b[0;31m# and avg\u001b[0m\u001b[0;34m\u001b[0m\u001b[0;34m\u001b[0m\u001b[0;34m\u001b[0m\u001b[0m\n\u001b[0;32m--> 549\u001b[0;31m         \u001b[0mloss\u001b[0m \u001b[0;34m=\u001b[0m \u001b[0mnp\u001b[0m\u001b[0;34m.\u001b[0m\u001b[0mmean\u001b[0m\u001b[0;34m(\u001b[0m\u001b[0mnp\u001b[0m\u001b[0;34m.\u001b[0m\u001b[0msquare\u001b[0m\u001b[0;34m(\u001b[0m\u001b[0my\u001b[0m \u001b[0;34m-\u001b[0m \u001b[0my_hat\u001b[0m\u001b[0;34m)\u001b[0m\u001b[0;34m)\u001b[0m\u001b[0;34m\u001b[0m\u001b[0;34m\u001b[0m\u001b[0m\n\u001b[0m\u001b[1;32m    550\u001b[0m \u001b[0;34m\u001b[0m\u001b[0m\n\u001b[1;32m    551\u001b[0m         \u001b[0;32mreturn\u001b[0m \u001b[0mloss\u001b[0m\u001b[0;34m\u001b[0m\u001b[0;34m\u001b[0m\u001b[0m\n",
      "\u001b[0;31mValueError\u001b[0m: operands could not be broadcast together with shapes (15,) (15,64) "
     ]
    }
   ],
   "source": [
    "trainLoss, valLoss = nn_ae.fit(X_train, y_train, X_val, X_val)\n",
    "\n"
   ]
  },
  {
   "cell_type": "markdown",
   "id": "838735d9",
   "metadata": {},
   "source": [
    "I really dont know why this is happening :( "
   ]
  },
  {
   "cell_type": "code",
   "execution_count": null,
   "id": "f8a1e447",
   "metadata": {},
   "outputs": [],
   "source": []
  }
 ],
 "metadata": {
  "kernelspec": {
   "display_name": "Python 3",
   "language": "python",
   "name": "python3"
  },
  "language_info": {
   "codemirror_mode": {
    "name": "ipython",
    "version": 3
   },
   "file_extension": ".py",
   "mimetype": "text/x-python",
   "name": "python",
   "nbconvert_exporter": "python",
   "pygments_lexer": "ipython3",
   "version": "3.8.8"
  }
 },
 "nbformat": 4,
 "nbformat_minor": 5
}
